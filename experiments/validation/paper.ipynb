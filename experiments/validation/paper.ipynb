{
 "cells": [
  {
   "cell_type": "code",
   "execution_count": 1,
   "metadata": {},
   "outputs": [
    {
     "name": "stderr",
     "output_type": "stream",
     "text": [
      "Error encountered while load FileIO.File{FileIO.DataFormat{:JLD2}, String}(\"sphericalsimplex/speech-airco-16/exports/separated_signals.jld2\").\n",
      "\n",
      "Fatal error:\n"
     ]
    },
    {
     "ename": "LoadError",
     "evalue": "LoadError: TypeError: in Type, in parameter, expected Type, got a value of type JLD2.UnknownType{String}\nStacktrace:\n [1] \u001b[0m\u001b[1mJLD2.ReadRepresentation{JLD2.UnknownType{String}(\"ReactiveMP.NormalMeanVariance\", Any[T<:Real]), JLD2.RelOffset}\u001b[22m\u001b[0m\u001b[1m(\u001b[22m\u001b[0m\u001b[1m)\u001b[22m\n\u001b[90m   @ \u001b[39m\u001b[35mJLD2\u001b[39m \u001b[90mC:\\Users\\s151781\\.julia\\packages\\JLD2\\k9Gt0\\src\\\u001b[39m\u001b[90m\u001b[4mJLD2.jl:118\u001b[24m\u001b[39m\n [2] \u001b[0m\u001b[1mread_data\u001b[22m\u001b[0m\u001b[1m(\u001b[22m\u001b[90mf\u001b[39m::\u001b[0mJLD2.JLDFile\u001b[90m{JLD2.MmapIO}\u001b[39m, \u001b[90mrr\u001b[39m::\u001b[0mJLD2.ReadRepresentation\u001b[90m{Any, JLD2.RelOffset}\u001b[39m, \u001b[90mread_dataspace\u001b[39m::\u001b[0mTuple\u001b[90m{JLD2.ReadDataspace, JLD2.RelOffset, Int64, UInt16}\u001b[39m, \u001b[90mattributes\u001b[39m::\u001b[0mVector\u001b[90m{JLD2.ReadAttribute}\u001b[39m\u001b[0m\u001b[1m)\u001b[22m\n\u001b[90m   @ \u001b[39m\u001b[35mJLD2\u001b[39m \u001b[90mC:\\Users\\s151781\\.julia\\packages\\JLD2\\k9Gt0\\src\\\u001b[39m\u001b[90m\u001b[4mdatasets.jl:200\u001b[24m\u001b[39m\nin expression starting at d:\\OneDrive - TU Eindhoven\\phd\\Projects\\SourceSeparationINN\\experiments\\validation\\reactivemp\\create_figure.jl:8",
     "output_type": "error",
     "traceback": [
      "LoadError: TypeError: in Type, in parameter, expected Type, got a value of type JLD2.UnknownType{String}\nStacktrace:\n [1] \u001b[0m\u001b[1mJLD2.ReadRepresentation{JLD2.UnknownType{String}(\"ReactiveMP.NormalMeanVariance\", Any[T<:Real]), JLD2.RelOffset}\u001b[22m\u001b[0m\u001b[1m(\u001b[22m\u001b[0m\u001b[1m)\u001b[22m\n\u001b[90m   @ \u001b[39m\u001b[35mJLD2\u001b[39m \u001b[90mC:\\Users\\s151781\\.julia\\packages\\JLD2\\k9Gt0\\src\\\u001b[39m\u001b[90m\u001b[4mJLD2.jl:118\u001b[24m\u001b[39m\n [2] \u001b[0m\u001b[1mread_data\u001b[22m\u001b[0m\u001b[1m(\u001b[22m\u001b[90mf\u001b[39m::\u001b[0mJLD2.JLDFile\u001b[90m{JLD2.MmapIO}\u001b[39m, \u001b[90mrr\u001b[39m::\u001b[0mJLD2.ReadRepresentation\u001b[90m{Any, JLD2.RelOffset}\u001b[39m, \u001b[90mread_dataspace\u001b[39m::\u001b[0mTuple\u001b[90m{JLD2.ReadDataspace, JLD2.RelOffset, Int64, UInt16}\u001b[39m, \u001b[90mattributes\u001b[39m::\u001b[0mVector\u001b[90m{JLD2.ReadAttribute}\u001b[39m\u001b[0m\u001b[1m)\u001b[22m\n\u001b[90m   @ \u001b[39m\u001b[35mJLD2\u001b[39m \u001b[90mC:\\Users\\s151781\\.julia\\packages\\JLD2\\k9Gt0\\src\\\u001b[39m\u001b[90m\u001b[4mdatasets.jl:200\u001b[24m\u001b[39m\nin expression starting at d:\\OneDrive - TU Eindhoven\\phd\\Projects\\SourceSeparationINN\\experiments\\validation\\reactivemp\\create_figure.jl:8",
      "",
      "Stacktrace:",
      "  [1] handle_error(e::TypeError, q::Base.PkgId, bt::Vector{Union{Ptr{Nothing}, Base.InterpreterIP}})",
      "    @ FileIO C:\\Users\\s151781\\.julia\\packages\\FileIO\\u9YLx\\src\\error_handling.jl:61",
      "  [2] handle_exceptions(exceptions::Vector{Tuple{Any, Union{Base.PkgId, Module}, Vector}}, action::String)",
      "    @ FileIO C:\\Users\\s151781\\.julia\\packages\\FileIO\\u9YLx\\src\\error_handling.jl:56",
      "  [3] action(call::Symbol, libraries::Vector{Union{Base.PkgId, Module}}, file::FileIO.Formatted, args::String; options::Base.Pairs{Symbol, Union{}, Tuple{}, NamedTuple{(), Tuple{}}})",
      "    @ FileIO C:\\Users\\s151781\\.julia\\packages\\FileIO\\u9YLx\\src\\loadsave.jl:228",
      "  [4] action",
      "    @ C:\\Users\\s151781\\.julia\\packages\\FileIO\\u9YLx\\src\\loadsave.jl:197 [inlined]",
      "  [5] action(call::Symbol, libraries::Vector{Union{Base.PkgId, Module}}, sym::Symbol, file::String, args::String; options::Base.Pairs{Symbol, Union{}, Tuple{}, NamedTuple{(), Tuple{}}})",
      "    @ FileIO C:\\Users\\s151781\\.julia\\packages\\FileIO\\u9YLx\\src\\loadsave.jl:185",
      "  [6] action",
      "    @ C:\\Users\\s151781\\.julia\\packages\\FileIO\\u9YLx\\src\\loadsave.jl:185 [inlined]",
      "  [7] load(file::String, args::String; options::Base.Pairs{Symbol, Union{}, Tuple{}, NamedTuple{(), Tuple{}}})",
      "    @ FileIO C:\\Users\\s151781\\.julia\\packages\\FileIO\\u9YLx\\src\\loadsave.jl:113",
      "  [8] load(file::String, args::String)",
      "    @ FileIO C:\\Users\\s151781\\.julia\\packages\\FileIO\\u9YLx\\src\\loadsave.jl:110",
      "  [9] top-level scope",
      "    @ d:\\OneDrive - TU Eindhoven\\phd\\Projects\\SourceSeparationINN\\experiments\\validation\\reactivemp\\create_figure.jl:8",
      " [10] include(fname::String)",
      "    @ Base.MainInclude .\\client.jl:451",
      " [11] top-level scope",
      "    @ In[1]:1",
      " [12] eval",
      "    @ .\\boot.jl:373 [inlined]",
      " [13] include_string(mapexpr::typeof(REPL.softscope), mod::Module, code::String, filename::String)",
      "    @ Base .\\loading.jl:1196"
     ]
    }
   ],
   "source": [
    "include(\"create_figure.jl\")"
   ]
  }
 ],
 "metadata": {
  "kernelspec": {
   "display_name": "Julia 1.7.0",
   "language": "julia",
   "name": "julia-1.7"
  },
  "language_info": {
   "file_extension": ".jl",
   "mimetype": "application/julia",
   "name": "julia",
   "version": "1.7.0"
  },
  "orig_nbformat": 4
 },
 "nbformat": 4,
 "nbformat_minor": 2
}
