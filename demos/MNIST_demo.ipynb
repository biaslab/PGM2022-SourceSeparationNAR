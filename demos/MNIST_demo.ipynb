{
 "cells": [
  {
   "cell_type": "code",
   "execution_count": 1,
   "metadata": {},
   "outputs": [
    {
     "name": "stderr",
     "output_type": "stream",
     "text": [
      "┌ Info: Precompiling SourceSeparationNF [0967cf83-991d-4407-9a5d-c519cfeee958]\n",
      "└ @ Base loading.jl:1423\n"
     ]
    }
   ],
   "source": [
    "using Revise\n",
    "using SourceSeparationNF\n",
    "using MLDatasets\n",
    "using LinearAlgebra\n",
    "using ProgressMeter\n",
    "using Statistics\n",
    "using PyPlot\n",
    "\n",
    "BLAS.set_num_threads(1)"
   ]
  },
  {
   "cell_type": "code",
   "execution_count": 2,
   "metadata": {},
   "outputs": [],
   "source": [
    "# fetch data\n",
    "train_x, train_y = MNIST.traindata(dir = \"../data/MNIST\");"
   ]
  },
  {
   "cell_type": "code",
   "execution_count": 3,
   "metadata": {},
   "outputs": [
    {
     "data": {
      "text/plain": [
       "create_neural_network (generic function with 1 method)"
      ]
     },
     "execution_count": 3,
     "metadata": {},
     "output_type": "execute_result"
    }
   ],
   "source": [
    "function create_neural_network(dim; optimizer::Type{<:AbstractOptimizer}=Adam)\n",
    "\n",
    "    return Model(dim,\n",
    "        (\n",
    "            DenseLayer(dim, 8; optimizer=optimizer),\n",
    "            ReluLayer(8),\n",
    "            DenseLayer(8, 8; optimizer=optimizer),\n",
    "            ReluLayer(8),\n",
    "            DenseLayer(8, dim; optimizer=optimizer)\n",
    "        )\n",
    "    )\n",
    "\n",
    "end"
   ]
  },
  {
   "cell_type": "code",
   "execution_count": 4,
   "metadata": {},
   "outputs": [],
   "source": [
    "model = Model(\n",
    "    28*28,\n",
    "    10,\n",
    "    (\n",
    "        MvAdditiveLayer(28*28, create_neural_network(28*14)),\n",
    "        PermutationLayer(28*28),\n",
    "        MvAdditiveLayer(28*28, create_neural_network(28*14)),\n",
    "        DenseLayer(28*28, 10),\n",
    "        SoftmaxLayer(10)\n",
    "    )\n",
    ");"
   ]
  },
  {
   "cell_type": "code",
   "execution_count": 5,
   "metadata": {},
   "outputs": [],
   "source": [
    "setlr!(model, 1e-3)\n",
    "setbatchsize!(model, 64)"
   ]
  },
  {
   "cell_type": "code",
   "execution_count": 6,
   "metadata": {},
   "outputs": [],
   "source": [
    "# allocate for input image\n",
    "input = Matrix{Float64}(undef, 28, 28)\n",
    "output = Vector{Float64}(undef, 10)\n",
    "loss_function = CCE();"
   ]
  },
  {
   "cell_type": "code",
   "execution_count": 7,
   "metadata": {},
   "outputs": [
    {
     "data": {
      "image/png": "[encoded data removed]",
      "text/plain": [
       "Figure(PyObject <Figure size 640x480 with 1 Axes>)"
      ]
     },
     "metadata": {},
     "output_type": "display_data"
    },
    {
     "name": "stderr",
     "output_type": "stream",
     "text": [
      "┌ Warning: `vendor()` is deprecated, use `BLAS.get_config()` and inspect the output instead\n",
      "│   caller = npyinitialize() at numpy.jl:67\n",
      "└ @ PyCall C:\\Users\\s151781\\.julia\\packages\\PyCall\\L0fLP\\src\\numpy.jl:67\n"
     ]
    },
    {
     "data": {
      "text/plain": [
       "10-element Vector{Float64}:\n",
       " 0.07665924037718651\n",
       " 0.10086878841776895\n",
       " 0.0644075453817804\n",
       " 0.12206304845842195\n",
       " 0.1076178079245853\n",
       " 0.082538082677383\n",
       " 0.11807268036075376\n",
       " 0.06819368180163089\n",
       " 0.09016693104068127\n",
       " 0.169412193559808"
      ]
     },
     "execution_count": 7,
     "metadata": {},
     "output_type": "execute_result"
    }
   ],
   "source": [
    "# show initial prediction\n",
    "using StatsFuns: softmax\n",
    "input = convert(Matrix{Float64}, train_x[:,:,1001])\n",
    "plt.imshow(input, origin=\"lower\")\n",
    "softmax(forward!(model, vec(input)))"
   ]
  },
  {
   "cell_type": "code",
   "execution_count": 8,
   "metadata": {},
   "outputs": [
    {
     "name": "stderr",
     "output_type": "stream",
     "text": [
      "\u001b[32mProgress: 100%|█████████████████████████████████████████| Time: 0:02:13\u001b[39m\n"
     ]
    },
    {
     "name": "stdout",
     "output_type": "stream",
     "text": [
      "epoch 001: 0.04272083464417228\n",
      "epoch 002: 0.023740168055486885\n",
      "epoch 003: 0.01989278294070811\n",
      "epoch 004: 0.01745787550165145\n",
      "epoch 005: 0.015898527393436845\n",
      "epoch 006: 0.014668521553204156\n",
      "epoch 007: 0.013820336171185655\n",
      "epoch 008: 0.013058077194754814\n",
      "epoch 009: 0.012464929247828351\n",
      "epoch 010: 0.011945956969840061\n",
      "epoch 011: 0.011557046789686698\n",
      "epoch 012: 0.011148751912569518\n",
      "epoch 013: 0.010851363845825066\n",
      "epoch 014: 0.010544556645038483\n",
      "epoch 015: 0.01028909532027023\n",
      "epoch 016: 0.010048985621437278\n",
      "epoch 017: 0.009849906676032989\n",
      "epoch 018: 0.009584354191267698\n",
      "epoch 019: 0.009496620402518821\n",
      "epoch 020: 0.009228814308324163\n",
      "epoch 021: 0.009073082470601726\n",
      "epoch 022: 0.00889979214827751\n",
      "epoch 023: 0.00880412120124575\n",
      "epoch 024: 0.008617213871585821\n",
      "epoch 025: 0.008506608800290614\n",
      "epoch 026: 0.008348763203874699\n",
      "epoch 027: 0.008196627071570579\n",
      "epoch 028: 0.008115574984199202\n",
      "epoch 029: 0.008018390693302829\n",
      "epoch 030: 0.00788141619866012\n",
      "epoch 031: 0.007817656916735704\n",
      "epoch 032: 0.0076317216419234625\n",
      "epoch 033: 0.0076070588175136\n",
      "epoch 034: 0.00749757670017975\n",
      "epoch 035: 0.007393454667847652\n",
      "epoch 036: 0.007345670719124647\n",
      "epoch 037: 0.007253251183060568\n",
      "epoch 038: 0.007157802885253839\n",
      "epoch 039: 0.007114505827507207\n",
      "epoch 040: 0.007062460141962894\n",
      "epoch 041: 0.006960557370359657\n",
      "epoch 042: 0.006886457220367837\n",
      "epoch 043: 0.00682163463612823\n",
      "epoch 044: 0.006738013563326448\n",
      "epoch 045: 0.00667159204872314\n",
      "epoch 046: 0.006614452929927817\n",
      "epoch 047: 0.006562237703493604\n",
      "epoch 048: 0.006468159976808276\n",
      "epoch 049: 0.00639911564511558\n",
      "epoch 050: 0.006331770543933514\n"
     ]
    }
   ],
   "source": [
    "loss = Vector{Float64}(undef, 60_000)\n",
    "@showprogress for epoch in 1:50\n",
    "    for k in 1:60_000\n",
    "        # load data\n",
    "        input .= train_x[:,:,k]\n",
    "        output .= 0.0\n",
    "        output[train_y[k]+1] = 1.0\n",
    "\n",
    "        # train model\n",
    "        loss[k] = train!(model, vec(input), output, loss_function)\n",
    "    end\n",
    "    println(\"epoch \", lpad(epoch, 3, \"0\"), \": \", mean(loss))\n",
    "end"
   ]
  },
  {
   "cell_type": "code",
   "execution_count": 9,
   "metadata": {},
   "outputs": [
    {
     "data": {
      "image/png": "[encoded data removed]",
      "text/plain": [
       "Figure(PyObject <Figure size 640x480 with 1 Axes>)"
      ]
     },
     "metadata": {},
     "output_type": "display_data"
    },
    {
     "data": {
      "text/plain": [
       "10-element Vector{Float64}:\n",
       " 0.9998193916362278\n",
       " 1.1203591720522619e-11\n",
       " 7.245263738004686e-6\n",
       " 2.583816439677338e-6\n",
       " 3.959167984592527e-11\n",
       " 9.740720017884691e-5\n",
       " 1.5933434867276583e-5\n",
       " 4.351970075981649e-7\n",
       " 5.056266131170063e-5\n",
       " 6.440739433990008e-6"
      ]
     },
     "execution_count": 9,
     "metadata": {},
     "output_type": "execute_result"
    }
   ],
   "source": [
    "# show final prediction\n",
    "using StatsFuns: softmax\n",
    "input = convert(Matrix{Float64}, train_x[:,:,1001])\n",
    "plt.imshow(input, origin=\"lower\")\n",
    "softmax(forward!(model, vec(input)))"
   ]
  }
 ],
 "metadata": {
  "kernelspec": {
   "display_name": "Julia 1.7.0",
   "language": "julia",
   "name": "julia-1.7"
  },
  "language_info": {
   "file_extension": ".jl",
   "mimetype": "application/julia",
   "name": "julia",
   "version": "1.7.0"
  },
  "orig_nbformat": 4
 },
 "nbformat": 4,
 "nbformat_minor": 2
}
