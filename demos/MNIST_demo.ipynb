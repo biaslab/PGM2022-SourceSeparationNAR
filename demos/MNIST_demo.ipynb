{
 "cells": [
  {
   "cell_type": "code",
   "execution_count": 1,
   "metadata": {},
   "outputs": [
    {
     "name": "stderr",
     "output_type": "stream",
     "text": [
      "┌ Info: Precompiling SourceSeparationNF [0967cf83-991d-4407-9a5d-c519cfeee958]\n",
      "└ @ Base loading.jl:1423\n"
     ]
    }
   ],
   "source": [
    "using Revise\n",
    "using SourceSeparationNF\n",
    "using MLDatasets\n",
    "using LinearAlgebra\n",
    "using ProgressMeter\n",
    "using Statistics\n",
    "using PyPlot\n",
    "\n",
    "BLAS.set_num_threads(1)"
   ]
  },
  {
   "cell_type": "code",
   "execution_count": 2,
   "metadata": {},
   "outputs": [],
   "source": [
    "# fetch data\n",
    "train_x, train_y = MNIST.traindata(dir = \"../data/MNIST\");"
   ]
  },
  {
   "cell_type": "code",
   "execution_count": 3,
   "metadata": {},
   "outputs": [
    {
     "data": {
      "text/plain": [
       "create_neural_network (generic function with 1 method)"
      ]
     },
     "execution_count": 3,
     "metadata": {},
     "output_type": "execute_result"
    }
   ],
   "source": [
    "function create_neural_network(dim)\n",
    "\n",
    "    return Model(dim,\n",
    "        (\n",
    "            DenseLayer(dim, 8),\n",
    "            ReluLayer(8),\n",
    "            DenseLayer(8, 8),\n",
    "            ReluLayer(8),\n",
    "            DenseLayer(8, dim)\n",
    "        )\n",
    "    )\n",
    "\n",
    "end"
   ]
  },
  {
   "cell_type": "code",
   "execution_count": 4,
   "metadata": {},
   "outputs": [],
   "source": [
    "model = Model(\n",
    "    28*28,\n",
    "    10,\n",
    "    (\n",
    "        MvAdditiveLayer(28*28, create_neural_network(28*14)),\n",
    "        PermutationLayer(28*28),\n",
    "        MvAdditiveLayer(28*28, create_neural_network(28*14)),\n",
    "        DenseLayer(28*28, 10),\n",
    "        SoftmaxLayer(10)\n",
    "    )\n",
    ");"
   ]
  },
  {
   "cell_type": "code",
   "execution_count": 5,
   "metadata": {},
   "outputs": [],
   "source": [
    "setlr!(model, 1e-3)"
   ]
  },
  {
   "cell_type": "code",
   "execution_count": 6,
   "metadata": {},
   "outputs": [],
   "source": [
    "# allocate for input image\n",
    "input = Matrix{Float64}(undef, 28, 28)\n",
    "output = Vector{Float64}(undef, 10)\n",
    "loss_function = CCE();"
   ]
  },
  {
   "cell_type": "code",
   "execution_count": 7,
   "metadata": {},
   "outputs": [
    {
     "data": {
      "image/png": "[encoded data removed]",
      "text/plain": [
       "Figure(PyObject <Figure size 640x480 with 1 Axes>)"
      ]
     },
     "metadata": {},
     "output_type": "display_data"
    },
    {
     "name": "stderr",
     "output_type": "stream",
     "text": [
      "┌ Warning: `vendor()` is deprecated, use `BLAS.get_config()` and inspect the output instead\n",
      "│   caller = npyinitialize() at numpy.jl:67\n",
      "└ @ PyCall C:\\Users\\s151781\\.julia\\packages\\PyCall\\L0fLP\\src\\numpy.jl:67\n"
     ]
    },
    {
     "data": {
      "text/plain": [
       "10-element Vector{Float64}:\n",
       " 0.06891873306788848\n",
       " 0.10214373586000035\n",
       " 0.2047636780920886\n",
       " 0.0758552693727309\n",
       " 0.0629271791109227\n",
       " 0.09668547843361261\n",
       " 0.06733246809653579\n",
       " 0.06822416802891293\n",
       " 0.09653670849671342\n",
       " 0.15661258144059434"
      ]
     },
     "execution_count": 7,
     "metadata": {},
     "output_type": "execute_result"
    }
   ],
   "source": [
    "# show initial prediction\n",
    "using StatsFuns: softmax\n",
    "input = convert(Matrix{Float64}, train_x[:,:,1001])\n",
    "plt.imshow(input, origin=\"lower\")\n",
    "softmax(forward!(model, vec(input)))"
   ]
  },
  {
   "cell_type": "code",
   "execution_count": 8,
   "metadata": {},
   "outputs": [
    {
     "name": "stderr",
     "output_type": "stream",
     "text": [
      "\u001b[32mProgress: 100%|█████████████████████████████████████████| Time: 0:02:31\u001b[39m\n"
     ]
    },
    {
     "name": "stdout",
     "output_type": "stream",
     "text": [
      "epoch 001: 0.2161620417068751\n",
      "epoch 002: 0.1769157551467923\n",
      "epoch 003: 0.14990534531438077\n",
      "epoch 004: 0.13088421846901602\n",
      "epoch 005: 0.11707480606461253\n",
      "epoch 006: 0.10669303739737582\n",
      "epoch 007: 0.09863568333505993\n",
      "epoch 008: 0.09220932610013449\n",
      "epoch 009: 0.086964348387057\n",
      "epoch 010: 0.08259871249488743\n",
      "epoch 011: 0.07890414679155759\n",
      "epoch 012: 0.07573259494271327\n",
      "epoch 013: 0.07297756321463177\n",
      "epoch 014: 0.07055866480062634\n",
      "epoch 015: 0.06841457948087812\n",
      "epoch 016: 0.0664978433277237\n",
      "epoch 017: 0.06477262247579409\n",
      "epoch 018: 0.06320924052783927\n",
      "epoch 019: 0.06178415424953709\n",
      "epoch 020: 0.06047803434153035\n",
      "epoch 021: 0.05927583427571561\n",
      "epoch 022: 0.05816451120596699\n",
      "epoch 023: 0.057132907701937664\n",
      "epoch 024: 0.05617135097154819\n",
      "epoch 025: 0.05527290587947754\n",
      "epoch 026: 0.0544305259509993\n",
      "epoch 027: 0.05363823498108958\n",
      "epoch 028: 0.052890644093516785\n",
      "epoch 029: 0.052184360948923154\n",
      "epoch 030: 0.05151519573032083\n",
      "epoch 031: 0.050879680567756144\n",
      "epoch 032: 0.05027439368713879\n",
      "epoch 033: 0.049697337110437834\n",
      "epoch 034: 0.04914650320421927\n",
      "epoch 035: 0.04861970944157136\n",
      "epoch 036: 0.04811443346921381\n",
      "epoch 037: 0.04762985426847562\n",
      "epoch 038: 0.047164444691880504\n",
      "epoch 039: 0.04671672790283475\n",
      "epoch 040: 0.04628509680529798\n",
      "epoch 041: 0.04586903472947393\n",
      "epoch 042: 0.04546765532341178\n",
      "epoch 043: 0.04507997110068453\n",
      "epoch 044: 0.04470445090363672\n",
      "epoch 045: 0.044341242693308275\n",
      "epoch 046: 0.043989633913907186\n",
      "epoch 047: 0.043648858894713635\n",
      "epoch 048: 0.04331778101135678\n",
      "epoch 049: 0.042996582115997065\n",
      "epoch 050: 0.04268507078042025\n"
     ]
    }
   ],
   "source": [
    "loss = Vector{Float64}(undef, 60_000)\n",
    "@showprogress for epoch in 1:50\n",
    "    for k in 1:60_000\n",
    "        # load data\n",
    "        input .= train_x[:,:,k]\n",
    "        output .= 0.0\n",
    "        output[train_y[k]+1] = 1.0\n",
    "\n",
    "        # train model\n",
    "        loss[k] = train!(model, vec(input), output, loss_function)\n",
    "    end\n",
    "    println(\"epoch \", lpad(epoch, 3, \"0\"), \": \", mean(loss))\n",
    "end"
   ]
  },
  {
   "cell_type": "code",
   "execution_count": 9,
   "metadata": {},
   "outputs": [
    {
     "data": {
      "image/png": "[encoded data removed]",
      "text/plain": [
       "Figure(PyObject <Figure size 640x480 with 1 Axes>)"
      ]
     },
     "metadata": {},
     "output_type": "display_data"
    },
    {
     "data": {
      "text/plain": [
       "10-element Vector{Float64}:\n",
       " 0.7708869584747235\n",
       " 1.4462628823967599e-5\n",
       " 0.005532176334620805\n",
       " 0.007343098417607034\n",
       " 0.001393771675820522\n",
       " 0.10244912131250336\n",
       " 0.0036833502709218676\n",
       " 0.0020874398562402453\n",
       " 0.10224661512171727\n",
       " 0.0043630059070213535"
      ]
     },
     "execution_count": 9,
     "metadata": {},
     "output_type": "execute_result"
    }
   ],
   "source": [
    "# show final prediction\n",
    "using StatsFuns: softmax\n",
    "input = convert(Matrix{Float64}, train_x[:,:,1001])\n",
    "plt.imshow(input, origin=\"lower\")\n",
    "softmax(forward!(model, vec(input)))"
   ]
  }
 ],
 "metadata": {
  "kernelspec": {
   "display_name": "Julia 1.7.0",
   "language": "julia",
   "name": "julia-1.7"
  },
  "language_info": {
   "file_extension": ".jl",
   "mimetype": "application/julia",
   "name": "julia",
   "version": "1.7.0"
  },
  "orig_nbformat": 4
 },
 "nbformat": 4,
 "nbformat_minor": 2
}
