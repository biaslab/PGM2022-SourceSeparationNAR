{
 "cells": [
  {
   "cell_type": "markdown",
   "metadata": {},
   "source": [
    "## Load packages"
   ]
  },
  {
   "cell_type": "code",
   "execution_count": 1,
   "metadata": {},
   "outputs": [
    {
     "name": "stderr",
     "output_type": "stream",
     "text": [
      "┌ Info: Precompiling SourceSeparationINN [0967cf83-991d-4407-9a5d-c519cfeee958]\n",
      "└ @ Base loading.jl:1423\n"
     ]
    },
    {
     "data": {
      "text/plain": [
       "TaskLocalRNG()"
      ]
     },
     "execution_count": 1,
     "metadata": {},
     "output_type": "execute_result"
    }
   ],
   "source": [
    "using Revise\n",
    "using SourceSeparationINN\n",
    "using LinearAlgebra, Random\n",
    "using BenchmarkTools, ProfileView\n",
    "using PyPlot\n",
    "\n",
    "BLAS.set_num_threads(1)\n",
    "Random.seed!(1234)"
   ]
  },
  {
   "cell_type": "markdown",
   "metadata": {},
   "source": [
    "## Load data"
   ]
  },
  {
   "cell_type": "code",
   "execution_count": 2,
   "metadata": {},
   "outputs": [
    {
     "data": {
      "image/png": "[encoded data removed]",
      "text/plain": [
       "Figure(PyObject <Figure size 640x480 with 1 Axes>)"
      ]
     },
     "metadata": {},
     "output_type": "display_data"
    },
    {
     "name": "stderr",
     "output_type": "stream",
     "text": [
      "┌ Info: data already processed.\n",
      "└ @ SourceSeparationINN d:\\OneDrive - TU Eindhoven\\phd\\Projects\\SourceSeparationINN\\src\\data.jl:72\n",
      "┌ Info: data already processed.\n",
      "└ @ SourceSeparationINN d:\\OneDrive - TU Eindhoven\\phd\\Projects\\SourceSeparationINN\\src\\data.jl:72\n",
      "┌ Warning: `vendor()` is deprecated, use `BLAS.get_config()` and inspect the output instead\n",
      "│   caller = npyinitialize() at numpy.jl:67\n",
      "└ @ PyCall C:\\Users\\s151781\\.julia\\packages\\PyCall\\L0fLP\\src\\numpy.jl:67\n"
     ]
    }
   ],
   "source": [
    "data_train = prepare_data(\"../data/train/raw\", \"../data/train/processed\"; fs=16000)\n",
    "data_test = prepare_data(\"../data/test/raw\", \"../data/test/processed\"; fs=16000)\n",
    "\n",
    "plt.plot(collect(1:length(data_train[1]))./16000, data_train[1])\n",
    "plt.grid()\n",
    "plt.xlabel(\"time [sec]\")\n",
    "plt.ylabel(\"signal\");"
   ]
  },
  {
   "cell_type": "markdown",
   "metadata": {},
   "source": [
    "## Create model"
   ]
  },
  {
   "cell_type": "code",
   "execution_count": 3,
   "metadata": {},
   "outputs": [
    {
     "data": {
      "text/plain": [
       "create_model (generic function with 1 method)"
      ]
     },
     "execution_count": 3,
     "metadata": {},
     "output_type": "execute_result"
    }
   ],
   "source": [
    "function create_model(dim; shift=1, optimizer::Type{<:AbstractOptimizer}=Adam, batch_size::Int=128)\n",
    "\n",
    "    return Model(dim,\n",
    "        (   \n",
    "            NarLayer(dim,\n",
    "                Model(dim-shift, shift,\n",
    "                    (\n",
    "                        DenseLayer(dim-shift, 15; optimizer=optimizer, batch_size=batch_size),\n",
    "                        LeakyReluLayer(15; batch_size=batch_size),\n",
    "                        DenseLayer(15, 15; optimizer=optimizer, batch_size=batch_size),\n",
    "                        LeakyReluLayer(15; batch_size=batch_size),\n",
    "                        DenseLayer(15, 15; optimizer=optimizer, batch_size=batch_size),\n",
    "                        LeakyReluLayer(15; batch_size=batch_size),\n",
    "                        DenseLayer(15, shift; optimizer=optimizer, batch_size=batch_size),\n",
    "                    )\n",
    "                )\n",
    "            ),\n",
    "        )\n",
    "    )\n",
    "end"
   ]
  },
  {
   "cell_type": "code",
   "execution_count": 4,
   "metadata": {},
   "outputs": [],
   "source": [
    "batch_size = 128\n",
    "dim_in = 16\n",
    "model = create_model(dim_in);"
   ]
  },
  {
   "cell_type": "code",
   "execution_count": 5,
   "metadata": {},
   "outputs": [
    {
     "data": {
      "text/plain": [
       "(true, 736)"
      ]
     },
     "execution_count": 5,
     "metadata": {},
     "output_type": "execute_result"
    }
   ],
   "source": [
    "isinvertible(model), nr_params(model)"
   ]
  },
  {
   "cell_type": "code",
   "execution_count": 6,
   "metadata": {},
   "outputs": [],
   "source": [
    "setlr!(model, 1e-4)\n",
    "loss_function = MSE(batch_size=batch_size)\n",
    ";"
   ]
  },
  {
   "cell_type": "markdown",
   "metadata": {},
   "source": [
    "## Show timings"
   ]
  },
  {
   "cell_type": "code",
   "execution_count": null,
   "metadata": {},
   "outputs": [],
   "source": [
    "@benchmark forward!($(model), $(randn(dim_in,batch_size)))"
   ]
  },
  {
   "cell_type": "code",
   "execution_count": null,
   "metadata": {},
   "outputs": [],
   "source": [
    "@benchmark backward($model, $(randn(dim_in,1)))"
   ]
  },
  {
   "cell_type": "code",
   "execution_count": null,
   "metadata": {},
   "outputs": [],
   "source": [
    "@benchmark propagate_error!($(model), $(randn(dim_in,batch_size)))"
   ]
  },
  {
   "cell_type": "code",
   "execution_count": null,
   "metadata": {},
   "outputs": [],
   "source": [
    "@benchmark update!($model)"
   ]
  },
  {
   "cell_type": "code",
   "execution_count": null,
   "metadata": {},
   "outputs": [],
   "source": [
    "@benchmark SourceSeparationINN.train_batch!($model, $(randn(dim_in,batch_size)), $(randn(dim_in,batch_size)), $loss_function)"
   ]
  },
  {
   "cell_type": "markdown",
   "metadata": {},
   "source": [
    "## Perform training"
   ]
  },
  {
   "cell_type": "code",
   "execution_count": null,
   "metadata": {},
   "outputs": [],
   "source": [
    "train_suite = TrainSuite(\n",
    "    model,                  # model\n",
    "    loss_function,          # loss function\n",
    "    data_train[1:10],             # train data\n",
    "    data_test,              # test data\n",
    "    10,                     # number of epochs\n",
    "    \"../logs/\"              # path to log directory\n",
    ");"
   ]
  },
  {
   "cell_type": "code",
   "execution_count": null,
   "metadata": {},
   "outputs": [],
   "source": [
    "run!(train_suite)"
   ]
  },
  {
   "cell_type": "code",
   "execution_count": null,
   "metadata": {},
   "outputs": [],
   "source": [
    "plot_logs(; path=\"../logs/\", logscale=false);"
   ]
  }
 ],
 "metadata": {
  "kernelspec": {
   "display_name": "Julia 1.7.0",
   "language": "julia",
   "name": "julia-1.7"
  },
  "language_info": {
   "file_extension": ".jl",
   "mimetype": "application/julia",
   "name": "julia",
   "version": "1.7.0"
  },
  "orig_nbformat": 4
 },
 "nbformat": 4,
 "nbformat_minor": 2
}
